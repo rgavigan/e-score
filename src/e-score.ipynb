{
 "cells": [
  {
   "cell_type": "markdown",
   "metadata": {
    "id": "1KMubAwwP04G"
   },
   "source": [
    "# Imports"
   ]
  },
  {
   "cell_type": "code",
   "execution_count": 1,
   "metadata": {
    "colab": {
     "base_uri": "https://localhost:8080/"
    },
    "id": "Y-XZm7sajbmM",
    "outputId": "bb0721c6-14f5-4d0f-9ee6-ba68d0383d58"
   },
   "outputs": [],
   "source": [
    "# Install requirements from requirements file\n",
    "# pip install -r ../requirements.txt\n",
    "\n",
    "# Alternative: Install requirements directly\n",
    "# %pip install blosum\n",
    "# %pip install Bio\n",
    "# %pip install torch torchvision torchaudio transformers sentencepiece accelerate --extra-index-url https://download.pytorch.org/whl/cu116\n",
    "# %pip install protein-bert\n",
    "# %pip install biopython biotite\n",
    "# %pip install fair-esm\n",
    "# %pip install scipy\n",
    "# %pip install matplotlib\n",
    "# %pip install seaborn"
   ]
  },
  {
   "cell_type": "code",
   "execution_count": 3,
   "metadata": {
    "colab": {
     "base_uri": "https://localhost:8080/"
    },
    "id": "o3BStrXj6JQ2",
    "outputId": "af5c2e52-88a3-485f-f382-e704171b2969"
   },
   "outputs": [
    {
     "name": "stderr",
     "output_type": "stream",
     "text": [
      "2024-03-26 12:46:25.916798: W tensorflow/compiler/tf2tensorrt/utils/py_utils.cc:38] TF-TRT Warning: Could not find TensorRT\n"
     ]
    },
    {
     "name": "stdout",
     "output_type": "stream",
     "text": [
      "Using device: cuda:0\n",
      "Using device: cuda:0\n"
     ]
    }
   ],
   "source": [
    "import scipy as sp\n",
    "import matplotlib.pyplot as plt\n",
    "import seaborn as sns; sns.set()\n",
    "import pandas as pd\n",
    "import numpy as np\n",
    "from scipy.stats import t\n",
    "import blosum as bl\n",
    "from Bio import SeqIO\n",
    "import random\n",
    "from scipy import stats\n",
    "import torch\n",
    "import esm\n",
    "import re\n",
    "import os\n",
    "from tqdm import tqdm\n",
    "import seaborn as sns\n",
    "import re\n",
    "import random\n",
    "import pickle\n",
    "import statistics\n",
    "import tensorflow as tf\n",
    "import time\n",
    "from zipfile import ZipFile\n",
    "import sys\n",
    "sys.path.insert(0, \"../\")\n",
    "\n",
    "# Importing models and embeddings retrieval methods\n",
    "from models import get_model\n",
    "from embeddings import get_fasta_embeddings, get_pair_embeddings, load_fasta, get_embeddings_T5\n",
    "\n",
    "# Retrieve the device (CPU or GPU)\n",
    "device = torch.device('cuda:0' if torch.cuda.is_available() else 'cpu')\n",
    "print(\"Using device: {}\".format(device))\n",
    "\n",
    "torch.set_grad_enabled(False)\n",
    "\n",
    "import warnings\n",
    "warnings.filterwarnings(\"ignore\")\n",
    "\n",
    "# Available models\n",
    "MODELS_LIST = [\"ProtT5\", \"ProtBert\", \"ProtAlbert\", \"ProtXLNet\"]\n",
    "\n",
    "# Available alignment types\n",
    "ALIGNMENT_TYPES = [\"Global-regular\" , \"Global-end-gap-free\"]"
   ]
  },
  {
   "cell_type": "markdown",
   "metadata": {
    "id": "qs6JenWnHYHo"
   },
   "source": [
    "# Alignment Algorithms"
   ]
  },
  {
   "cell_type": "markdown",
   "metadata": {
    "id": "iTFhk7slsYA1"
   },
   "source": [
    "## Global"
   ]
  },
  {
   "cell_type": "code",
   "execution_count": 4,
   "metadata": {
    "id": "r5iNmd9o6Q3V"
   },
   "outputs": [],
   "source": [
    "def affine_global_dp(seq_1, seq_2, g_open, g_ext,\n",
    "                     scoring=\"ProtT5\", Model=None, Model_tokenizer=None):\n",
    "    \"\"\" Performs global alignment of two sequences using affine gap penalty dynamic programming algorithm \"\"\"\n",
    "    m, n = len(seq_1), len(seq_2)\n",
    "\n",
    "    # Initialize matrices\n",
    "    M = np.zeros([m + 1, n + 1])\n",
    "    M[0, 1:] = g_open + g_ext * np.arange(0, n, 1)\n",
    "    M[1:, 0] = g_open + g_ext * np.arange(0, m, 1)\n",
    "\n",
    "    # Copies to avoid Gotoh's error\n",
    "    L, U = np.copy(M), np.copy(M)\n",
    "    L[1:, 0] += g_open\n",
    "    U[0, 1:] += g_open\n",
    "\n",
    "    # Tracer matrix\n",
    "    tracer = np.zeros([np.shape(M)[0], np.shape(M)[1], 7])\n",
    "  \n",
    "    # Get embeddings\n",
    "    emb1, emb2 = get_pair_embeddings(seq_1, seq_2, Model, Model_tokenizer, scoring)\n",
    "    cos = torch.nn.CosineSimilarity(dim=0)\n",
    "\n",
    "    # Dynamic programming algorithm\n",
    "    for i in range(1, m + 1):\n",
    "        for j in range(1, n + 1):\n",
    "            l_arr = np.array([M[i, j - 1] + g_open, L[i, j - 1] + g_ext])\n",
    "            L[i, j] = np.max(l_arr)\n",
    "            l_where = l_arr == np.max(l_arr)\n",
    "\n",
    "            u_arr = np.array([M[i - 1, j] + g_open, U[i - 1, j] + g_ext])\n",
    "            U[i, j] = np.max(u_arr)\n",
    "            u_where = u_arr == np.max(u_arr)\n",
    "\n",
    "            if scoring in MODELS_LIST:\n",
    "                sim = cos(torch.tensor(emb1[i - 1], dtype=torch.float32), \n",
    "                          torch.tensor(emb2[j - 1], dtype=torch.float32)).item()\n",
    "                m_arr = np.array([M[i - 1, j - 1] + sim, U[i, j], L[i, j]])\n",
    "\n",
    "            M[i, j] = np.max(m_arr)\n",
    "            m_where = m_arr == np.max(m_arr)\n",
    "\n",
    "            idx = np.hstack([m_where, u_where, l_where])\n",
    "            tracer[i, j, idx] = 1\n",
    "\n",
    "    # Traceback\n",
    "    alignment = traceback_g(tracer, seq_1, seq_2, affine=True)\n",
    "    alignment = list(set(map(tuple, alignment)))\n",
    "\n",
    "    return M, L, U, tracer, alignment\n",
    "\n",
    "\n",
    "def traceback_g(tracer, seq_1, seq_2, mat=None, affine=False, roadmap=0):\n",
    "    \"\"\" Performs traceback step of the sequence alignment algorithm - reconstructs aligned sequences from the tracer matrix \n",
    "    Based on Smith-Waterman algorithm\n",
    "    \"\"\"\n",
    "    # Get sequence lengths\n",
    "    m, n = len(seq_1), len(seq_2)\n",
    "\n",
    "    # Convert to numpy arrays\n",
    "    x = np.array(list(seq_1), dtype='object')\n",
    "    y = np.array(list(seq_2), dtype='object')\n",
    "\n",
    "    # Set start location\n",
    "    st = [m + 1, n + 1]\n",
    "    st_lv = 0  # Start in midgard\n",
    "\n",
    "    while st[0] > 1 and st[1] > 1:\n",
    "        B = np.zeros([2, 2])  # define 2x2 box which specifies which way to move\n",
    "\n",
    "        Tr_size = 7 if affine else 3  # Size of tracer array\n",
    "        Tr = np.zeros([Tr_size])  # define a Tr_size x 1 Tr array (will store arrows at each step)\n",
    "\n",
    "        # Get tracer array\n",
    "        for i in range(Tr_size):\n",
    "            Tr[i] = np.copy(tracer[st[0] - 1, st[1] - 1, i])\n",
    "\n",
    "        # Bifurcations\n",
    "        levels = [[2, 0, 1], [4, 3], [6, 5]] if affine else [[2, 0, 1]]\n",
    "\n",
    "        for l in levels:\n",
    "            if np.sum(Tr[l]) > 1:\n",
    "                choose = np.where(Tr[l] == 1)[0]\n",
    "                Tr[l] = 0\n",
    "                r = np.random.choice(choose, 1)[0] if roadmap == 0 else choose[-1] if roadmap == 1 else choose[0]\n",
    "                if roadmap not in [0, 1, 2]:\n",
    "                    raise Exception(\"roadmap only accepts 0: random turning, 1: highroad, 2: lowroad\")\n",
    "                Tr[l[r]] = 1\n",
    "\n",
    "        # Diagonal\n",
    "        if Tr[0] == 1 and st_lv == 0:\n",
    "            B[0, 0] = 1\n",
    "\n",
    "        # End gaps\n",
    "        if Tr[1] == 1 and st_lv == 0:\n",
    "            if affine:\n",
    "                st_lv = 1  # level up\n",
    "            else:\n",
    "                B[0, 1] = 1\n",
    "\n",
    "        if Tr[2] == 1 and st_lv == 0:\n",
    "            if affine:\n",
    "                st_lv = 2  # level down\n",
    "            else:\n",
    "                B[1, 0] = 1\n",
    "\n",
    "        # Affine gaps allow for level shifts\n",
    "        if affine:\n",
    "            if Tr[4] == 1 and st_lv == 1:  # move up\n",
    "                B[0, 1] = 1\n",
    "\n",
    "            if Tr[3] == 1 and st_lv == 1:  # move up back to main\n",
    "                st_lv = 0\n",
    "                B[0, 1] = 1\n",
    "\n",
    "            if Tr[6] == 1 and st_lv == 2:  # move left\n",
    "                B[1, 0] = 1\n",
    "\n",
    "            if Tr[5] == 1 and st_lv == 2:  # move left back to main\n",
    "                st_lv = 0\n",
    "                B[1, 0] = 1\n",
    "\n",
    "        # Movements\n",
    "        if B[0, 1] == 1:  # upward\n",
    "            y = np.insert(y, st[1] - 1, '-')  # add a gap\n",
    "            st[0] -= 1\n",
    "\n",
    "        if B[1, 0] == 1:  # leftward\n",
    "            x = np.insert(x, st[0] - 1, '-')  # add a gap\n",
    "            st[1] -= 1\n",
    "\n",
    "        if B[0, 0] == 1:  # diagonal\n",
    "            st[1] -= 1\n",
    "            st[0] -= 1\n",
    "\n",
    "    # Some end gaps are left when you hit the upper/lower end of the matrix or a 0\n",
    "    end_size = np.size(x) - np.size(y)  # how many gaps and for which sequence\n",
    "    end_gap = ['-'] * abs(end_size)\n",
    "    if end_size > 0:\n",
    "        y = np.insert(y, 0, end_gap)\n",
    "    elif end_size < 0:\n",
    "        x = np.insert(x, 0, end_gap)\n",
    "\n",
    "    # Check no overlapping gaps\n",
    "    x = np.where(((x == '-') & (y == '-')), None, x)\n",
    "    y = np.where((x == None), '', y)\n",
    "    x = np.where((x == None), '', x)\n",
    "\n",
    "    return np.sum(x), np.sum(y)"
   ]
  },
  {
   "cell_type": "markdown",
   "metadata": {
    "id": "wiNZQ2SQJM54"
   },
   "source": [
    "## Prefix/Suffix"
   ]
  },
  {
   "cell_type": "code",
   "execution_count": 5,
   "metadata": {
    "id": "MqzYFa7dJTY9"
   },
   "outputs": [],
   "source": [
    "def affine_semi_global_dp(seq_1, seq_2, g_open, g_ext,\n",
    "                          high_low=False, scoring=\"ProtT5\", Model=None, Model_tokenizer=None):\n",
    "    \"\"\" Performs semi-global alignment of two sequences using affine gap penalty dynamic programming algorithm \"\"\"\n",
    "    m, n = len(seq_1), len(seq_2)\n",
    "    \n",
    "    # Initialize matrices\n",
    "    M = np.zeros([m + 1, n + 1])\n",
    "    L, U = np.copy(M), np.copy(M)\n",
    "\n",
    "    # Tracer matrix\n",
    "    tracer = np.zeros([np.shape(M)[0], np.shape(M)[1], 7])\n",
    "\n",
    "    # Get embeddings\n",
    "    emb1, emb2 = get_pair_embeddings(seq_1, seq_2, Model, Model_tokenizer, scoring)\n",
    "    cos = torch.nn.CosineSimilarity(dim=0)\n",
    "\n",
    "    # Dynamic programming algorithm\n",
    "    for i in range(1, m + 1):\n",
    "        for j in range(1, n + 1):\n",
    "            l_arr = np.array([M[i, j - 1] + g_open, L[i, j - 1] + g_ext])\n",
    "            L[i, j] = np.max(l_arr)\n",
    "            l_where = l_arr == np.max(l_arr)\n",
    "\n",
    "            u_arr = np.array([M[i - 1, j] + g_open, U[i - 1, j] + g_ext])\n",
    "            U[i, j] = np.max(u_arr)\n",
    "            u_where = u_arr == np.max(u_arr)\n",
    "\n",
    "            if scoring in MODELS_LIST:\n",
    "                sim = cos(torch.tensor(emb1[i - 1], dtype=torch.float32), \n",
    "                          torch.tensor(emb2[j - 1], dtype=torch.float32)).item()\n",
    "                m_arr = np.array([M[i - 1, j - 1] + sim, U[i, j], L[i, j]])\n",
    "\n",
    "            M[i, j] = np.max(m_arr)\n",
    "            m_where = m_arr == np.max(m_arr)\n",
    "\n",
    "            idx = np.hstack([m_where, u_where, l_where])\n",
    "            tracer[i, j, idx] = 1\n",
    "\n",
    "    alignment = [traceback_sg(tracer, seq_1, seq_2, mat=M, affine=True, local= True, roadmap=0)]\n",
    "    alignment = list(set(map(tuple, alignment)))\n",
    "\n",
    "    return M, L, U, tracer, alignment\n",
    "\n",
    "\n",
    "def traceback_sg(tracer, seq_1, seq_2, mat=None, local=False, affine=False, roadmap=0):\n",
    "    \"\"\" Performs traceback step of the sequence alignment algorithm - reconstructs aligned sequences from the tracer matrix \"\"\"\n",
    "    m, n = len(seq_1), len(seq_2)\n",
    "\n",
    "    # Convert to numpy arrays\n",
    "    x = np.array(list(seq_1), dtype='object')\n",
    "    y = np.array(list(seq_2), dtype='object')\n",
    "\n",
    "    # Set start location (random maxima if 0)\n",
    "    r = np.random.choice(range(np.size(np.where(mat == np.max(mat))[0])), 1)[0] if roadmap == 0 else -1 if roadmap == 1 else 0\n",
    "    st = [(np.where(mat == np.max(mat))[0][r]) + 1, (np.where(mat == np.max(mat))[1][r]) + 1]\n",
    "\n",
    "    # Set starting gaps based on the start location\n",
    "    start_size = (m - st[0]) - (n - st[1])  # how many gaps and for which sequence\n",
    "    start_gap = (['-'] * abs(start_size))\n",
    "    if start_size > 0:\n",
    "        y = np.append(y, start_gap)\n",
    "    elif start_size < 0:\n",
    "        x = np.append(x, start_gap)\n",
    "\n",
    "    st_lv = 0  # start in midgard\n",
    "\n",
    "    while st[0] > 1 and st[1] > 1:\n",
    "        B = np.zeros([2, 2])  # define 2x2 box which specifies which way to move\n",
    "\n",
    "        Tr_size = 7 if affine else 3  # size of tracer array\n",
    "        Tr = np.zeros([Tr_size])  # define a Tr_size x 1 Tr array (will store arrows at each step)\n",
    "\n",
    "        # Tracer\n",
    "        for i in range(Tr_size):\n",
    "            Tr[i] = np.copy(tracer[st[0] - 1, st[1] - 1, i])\n",
    "\n",
    "        # Bifurcations\n",
    "        levels = [[2, 0, 1], [4, 3], [6, 5]] if affine else [[2, 0, 1]]\n",
    "\n",
    "        for l in levels:\n",
    "            if np.sum(Tr[l]) > 1:\n",
    "                choose = np.where(Tr[l] == 1)[0]\n",
    "                Tr[l] = 0\n",
    "                # 0: random turning, 1: highroad, 2: lowroad\n",
    "                r = np.random.choice(choose, 1)[0] if roadmap == 0 else choose[-1] if roadmap == 1 else choose[0]\n",
    "                if roadmap not in [0, 1, 2]:\n",
    "                    raise Exception(\"roadmap only accepts 0: random turning, 1: highroad, 2: lowroad\")\n",
    "                \n",
    "                Tr[l[r]] = 1\n",
    "\n",
    "        # level up-down\n",
    "        if Tr[0] == 1 and st_lv == 0:  # diagonal\n",
    "            B[0, 0] = 1\n",
    "\n",
    "        if Tr[1] == 1 and st_lv == 0:\n",
    "            if affine:\n",
    "                st_lv = 1  # level up\n",
    "            else:\n",
    "                B[0, 1] = 1\n",
    "\n",
    "        if Tr[2] == 1 and st_lv == 0:\n",
    "            if affine:\n",
    "                st_lv = 2  # level down\n",
    "            else:\n",
    "                B[1, 0] = 1\n",
    "\n",
    "        # Affine gaps allow for level shifts\n",
    "        if affine:\n",
    "            if Tr[4] == 1 and st_lv == 1:  # move up\n",
    "                B[0, 1] = 1\n",
    "\n",
    "            if Tr[3] == 1 and st_lv == 1:  # move up back to main\n",
    "                st_lv = 0\n",
    "                B[0, 1] = 1\n",
    "\n",
    "            if Tr[6] == 1 and st_lv == 2:  # move left\n",
    "                B[1, 0] = 1\n",
    "\n",
    "            if Tr[5] == 1 and st_lv == 2:  # move left back to main\n",
    "                st_lv = 0\n",
    "                B[1, 0] = 1\n",
    "\n",
    "        if local and mat[st[0] - 1, st[1] - 1] == 0:\n",
    "            break\n",
    "\n",
    "        # Movements\n",
    "        if B[0, 1] == 1:  # upward\n",
    "            y = np.insert(y, st[1] - 1, '-')  # add a gap\n",
    "            st[0] -= 1\n",
    "\n",
    "        if B[1, 0] == 1:  # leftward\n",
    "            x = np.insert(x, st[0] - 1, '-')  # add a gap\n",
    "            st[1] -= 1\n",
    "\n",
    "        if B[0, 0] == 1:  # diagonal\n",
    "            st[1] -= 1\n",
    "            st[0] -= 1\n",
    "\n",
    "    # Some end gaps are left when you hit the upper/lower end of the matrix or a 0\n",
    "    end_size = np.size(x) - np.size(y)  # how many gaps and for which sequence\n",
    "    end_gap = (['-'] * abs(end_size))\n",
    "    if end_size > 0:\n",
    "        y = np.insert(y, 0, end_gap)\n",
    "    elif end_size < 0:\n",
    "        x = np.insert(x, 0, end_gap)\n",
    "\n",
    "    # Check no overlapping gaps\n",
    "    x = np.where(((x == '-') & (y == '-')), None, x)\n",
    "    y = np.where((x == None), '', y)\n",
    "    x = np.where((x == None), '', x)\n",
    "\n",
    "    return np.sum(x), np.sum(y)"
   ]
  },
  {
   "cell_type": "markdown",
   "metadata": {
    "id": "9IMkkTPWsaF0"
   },
   "source": [
    "# Aux Funx"
   ]
  },
  {
   "cell_type": "code",
   "execution_count": 6,
   "metadata": {
    "id": "LBNOVyaN7ZT3"
   },
   "outputs": [],
   "source": [
    "def get_sequences_only(seqs):\n",
    "    \"\"\" Extracts a list of (sequence) from a list of (name, sequence) tuples \"\"\"\n",
    "    return [seq[1] for seq in seqs]\n",
    "\n",
    "def aligned_to_indexed(seqs):\n",
    "  \"\"\" Removes dashes (-) in a sequence and creates positions array for non-dash residues \"\"\"\n",
    "  # Replace dashes with empty string\n",
    "  no_dash = [seq.replace(\"-\", \"\") for seq in seqs]\n",
    "\n",
    "  # Create positions array for non-dash residues\n",
    "  positions = [[i for i, char in enumerate(seq) if char != \"-\"] for seq in seqs]\n",
    "\n",
    "  return no_dash, positions\n",
    "\n",
    "def length_matcher(x , y , place = \"\"):\n",
    "  \"\"\" Matches the length between x and y with spaces if necessary \"\"\"\n",
    "  length = 5\n",
    "\n",
    "  def add_spaces(value):\n",
    "    spaces = abs(len(value) - length)\n",
    "    return \" \" * spaces + value if place == \"Back\" else value + \" \" * spaces\n",
    "\n",
    "  return add_spaces(x), add_spaces(y)"
   ]
  },
  {
   "cell_type": "markdown",
   "metadata": {
    "id": "achF78kUscys"
   },
   "source": [
    "# Alignment Computations"
   ]
  },
  {
   "cell_type": "code",
   "execution_count": 7,
   "metadata": {
    "id": "DawofHCVAdVo"
   },
   "outputs": [],
   "source": [
    "def get_alignments(prot1, prot2, gap_penalty = 0, gap_extension_penalty = 0,\n",
    "                   scoring = \"ProtT5\", alignment_type = \"Global-regular\", Model = \"\", Model_Tokenizer = \"\"):\n",
    "  \"\"\" Gets the alignments between two sequences \"\"\"\n",
    "  \n",
    "  if alignment_type == \"Global-regular\":\n",
    "    M, L, U, tracer, alignment = affine_global_dp(prot1, prot2, gap_penalty, gap_extension_penalty, \n",
    "                                                  scoring = scoring , Model = Model, Model_tokenizer = Model_Tokenizer)\n",
    "    max_score = np.max(M)\n",
    "\n",
    "  if alignment_type == \"Global-end-gap-free\" or alignment_type == \"End-Gap-Free\":\n",
    "    M, L, U, tracer, alignment = affine_semi_global_dp(prot1, prot2, gap_penalty, gap_extension_penalty, \n",
    "                                                        scoring = scoring , Model = Model, Model_tokenizer = Model_Tokenizer)\n",
    "    max_score = max(M[-1,-1],L[-1,-1],U[-1,-1])\n",
    "\n",
    "  # Return (reference alignment, query alignment, alignment score)\n",
    "  aligned1 = alignment[0][0]\n",
    "  aligned2 = alignment[0][1]\n",
    "\n",
    "  return aligned1, aligned2, max_score"
   ]
  },
  {
   "cell_type": "code",
   "execution_count": 8,
   "metadata": {
    "id": "5Hfj5rAk4_cg"
   },
   "outputs": [],
   "source": [
    "def get_visualization(prot1, prot2, score, Type = \"\", Model = \"\", Model_Tokenizer = \"\"):\n",
    "  MODELS_LIST = [\"ProtT5\" , \"ProtBert\" , \"ProtAlbert\" , \"ProtXLNet\" , \"ESM1b\" , \"ESM2\"]\n",
    "  cos = torch.nn.CosineSimilarity(dim=0)\n",
    "\n",
    "  seqs = [prot1 , prot2]\n",
    "  no_dash, positions = aligned_to_indexed(seqs)\n",
    "\n",
    "  # Get embeddings\n",
    "  p1_emb, p2_emb = get_pair_embeddings(no_dash[0], no_dash[1], Model, Model_Tokenizer, Type)\n",
    "\n",
    "  p1_revived = \"\"\n",
    "  p2_revived = \"\"\n",
    "  aligned_info = \"\"\n",
    "\n",
    "  for i in range(len(prot1)):\n",
    "    if i in positions[0]:\n",
    "      p1_revived += prot1[i]\n",
    "    else:\n",
    "      p1_revived += \"-\"\n",
    "\n",
    "    if i in positions[1]:\n",
    "      p2_revived += prot2[i]\n",
    "    else:\n",
    "      p2_revived += \"-\"\n",
    "\n",
    "\n",
    "    if p1_revived[-1] == p2_revived[-1]:\n",
    "      aligned_info += p1_revived[-1]\n",
    "    elif p1_revived[-1] == \"-\" or p2_revived[-1] == \"-\":\n",
    "      aligned_info += \" \"\n",
    "    elif p1_revived[-1] != p2_revived[-1]:\n",
    "      if Type in MODELS_LIST:\n",
    "        sim = cos(torch.tensor(p1_emb[0][positions[0].index(i)] , dtype = torch.float32) ,\n",
    "                  torch.tensor(p2_emb[0][positions[1].index(i)] , dtype = torch.float32)).item()\n",
    "        aligned_info += \" \"\n",
    "\n",
    "  del model\n",
    "  del tokenizer\n",
    "\n",
    "  return p1_revived, aligned_info, p2_revived, score"
   ]
  },
  {
   "cell_type": "markdown",
   "metadata": {
    "id": "m7nB5_MdnBO5"
   },
   "source": [
    "# Alignment For 2 Sequences"
   ]
  },
  {
   "cell_type": "code",
   "execution_count": 9,
   "metadata": {
    "id": "dyAQgxCFn99V"
   },
   "outputs": [],
   "source": [
    "def alignment_file_TXT(saving_add, seqs_path, scoring, alignment_type,\n",
    "                      gap_penalty, gap_extension_penalty):\n",
    "  \"\"\" Creates and outputs the alignment file between two sequences \"\"\"\n",
    "  print(f\"Device: {device}\")\n",
    "\n",
    "  # Get selected model\n",
    "  Model , Model_Tokenizer = get_model(scoring)\n",
    "\n",
    "  # Load sequences from FASTA file\n",
    "  seqs = load_fasta(seqs_path)\n",
    "\n",
    "  # Get protein sequences\n",
    "  prot1 = seqs[0][1]\n",
    "  prot2 = seqs[1][1]\n",
    "\n",
    "  # Get names of protein sequences\n",
    "  name1 = seqs[0][0]\n",
    "  name2 = seqs[1][0]\n",
    "\n",
    "  # Get alignments and visualization\n",
    "  reference_al, query_al, al_score = get_alignments(prot1, prot2, gap_penalty = gap_penalty,\n",
    "                                              gap_extension_penalty = gap_extension_penalty ,\n",
    "                                              scoring = scoring , alignment_type = alignment_type,\n",
    "                                              Model = Model , Model_Tokenizer = Model_Tokenizer)\n",
    "\n",
    "  p1_al , aligned_info , p2_al , al_score = get_visualization(reference_al , query_al, al_score , Type = scoring,\n",
    "                                                              Model = Model, Model_Tokenizer = Model_Tokenizer)\n",
    "\n",
    "  if not os.path.exists(saving_add):\n",
    "    os.makedirs(saving_add)\n",
    "\n",
    "  file_name = saving_add + seqs_path.split(\"/\")[-1].split(\".\")[-2] + \"_\" + scoring + \"_\" + alignment_type + \"_\"\n",
    "  file_name += str(gap_penalty) + \"_\" + str(gap_extension_penalty) + \"_\"+ \"Alignment\" + \".txt\"\n",
    "  f = open(file_name, \"w\")\n",
    "\n",
    "  # Write Sequence 1 Information\n",
    "  f.write(\"Seq 1 \\n\")\n",
    "  f.write(\">\" + name1 + \"\\n\")\n",
    "  f.write(reference_al.replace(\"-\" , \"\") + \"\\n\")\n",
    "    \n",
    "  # Write Sequence 2 Information\n",
    "  f.write(\"Seq 2 \\n\")\n",
    "  f.write(\">\" + name2 + \"\\n\")\n",
    "  f.write(query_al.replace(\"-\" , \"\") + \"\\n\\n\")\n",
    "    \n",
    "  # Write Alignment Information\n",
    "  f.write(\"Alignment Type : \" + alignment_type + \"\\n\\n\")\n",
    "  f.write(\"Opening Gap Penalty : \" + str(gap_penalty) + \"\\n\")\n",
    "  f.write(\"Extension Gap Penalty : \" + str(gap_extension_penalty) + \"\\n\")\n",
    "  f.write(\"Scoring System : \" + scoring + \"\\n\")\n",
    "  f.write(\"Score : \"  + str(al_score) + \"\\n\\n\")\n",
    "\n",
    "  p1_pos = 1\n",
    "  p2_pos = 1\n",
    "  aligned_gaps = \"\"\n",
    "\n",
    "  for j in range(int(len(p1_al) / 60) + 1):\n",
    "    p1_posix = p1_al[j * 60: (j + 1) * 60]\n",
    "    p2_posix = p2_al[j * 60: (j + 1) * 60]\n",
    "    p1_back_str, p2_back_str = length_matcher(str(p1_pos) , str(p2_pos) , place = \"Front\")\n",
    "\n",
    "    for k in range(len(p1_posix)):\n",
    "      if p1_posix[k] != \"-\":\n",
    "        p1_pos += 1\n",
    "      if p2_posix[k] != \"-\":\n",
    "        p2_pos += 1\n",
    "\n",
    "    p1_end_str, p2_end_str = length_matcher(str(p1_pos - 1) , str(p2_pos - 1) , place = \"Back\")\n",
    "    aligned_gaps = \" \" * len(p1_back_str)\n",
    "\n",
    "    f.write(\"Seq 1 : \" + p1_back_str + \" \" + p1_al[j * 60: (j + 1) * 60] + \" \" + p1_end_str + \"\\n\")\n",
    "    f.write(\"        \"  +  aligned_gaps + \" \" + aligned_info[j * 60: (j + 1) * 60] + \"\\n\")\n",
    "    f.write(\"Seq 2 : \"  + p2_back_str + \" \" + p2_al[j * 60: (j + 1) * 60] + \" \" + p2_end_str + \"\\n\\n\")\n",
    "\n",
    "  print(\"Alignment Computation is Done!\")\n",
    "  del Model\n",
    "  del Model_Tokenizer"
   ]
  },
  {
   "cell_type": "markdown",
   "metadata": {},
   "source": [
    "# Cosine Similarity"
   ]
  },
  {
   "cell_type": "code",
   "execution_count": 10,
   "metadata": {},
   "outputs": [],
   "source": [
    "def get_cosine_similarities(emb1, emb2, input = \"embeddings\", model = None, tokenizer = None, scoring = None):\n",
    "    \"\"\" Gets the cosine similarity between two sequences \n",
    "\n",
    "    Args\n",
    "        emb1, emb2 - either embeddings or sequences of the two proteins\n",
    "        input (optional) - whether the input is sequences or embeddings\n",
    "        model (optional) - model to use for embedding retrieval\n",
    "        tokenizer (optional) - tokenizer to use for embedding retrieval\n",
    "        scoring (optional) - scoring system to use for embedding retrieval\n",
    "    \n",
    "    Returns\n",
    "        cosine_similarities - cosine similarity between the two sequences for the dimensions of the embeddings\n",
    "    \"\"\"\n",
    "    if input == 'sequences':\n",
    "        emb1, emb2 = get_pair_embeddings(emb1, emb2, model, tokenizer, scoring)\n",
    "    \n",
    "    cos = torch.nn.CosineSimilarity(dim=0)\n",
    "\n",
    "    m, n = len(emb1), len(emb2)\n",
    "    cosine_similarities = np.zeros([m, n])\n",
    "\n",
    "    for i in range(m):\n",
    "        for j in range(n):\n",
    "            cosine_similarities[i, j] = cos(torch.tensor(emb1[i], dtype=torch.float32), \n",
    "                      torch.tensor(emb2[j], dtype=torch.float32)).item()\n",
    "            \n",
    "    return cosine_similarities"
   ]
  },
  {
   "cell_type": "markdown",
   "metadata": {},
   "source": [
    "## Guide"
   ]
  },
  {
   "cell_type": "code",
   "execution_count": 11,
   "metadata": {
    "id": "OaiQRMPjkWbg"
   },
   "outputs": [],
   "source": [
    "def user_guide(MODELS_LIST):\n",
    "  \"\"\" User guide for the E-score program \"\"\"\n",
    "  print(\"Parameters & Descriptions:\")\n",
    "  print(\"  saving_add:\".ljust(25) + \"Output directory path\")\n",
    "  print(\"  seqs_path:\".ljust(25) + \"FASTA file with two protein sequences\")\n",
    "    \n",
    "  print(\"  scoring_type:\".ljust(25) + \"Model for embedding production (\", end = \"\")\n",
    "  for model_name in MODELS_LIST[:-1] : print(model_name + \", \" , end = \"\")\n",
    "  print(MODELS_LIST[-1] + \")\")\n",
    "\n",
    "  print(\"  alignment_type:\".ljust(25) + \"Global-regular or Global-end-gap-free\")\n",
    "  print(\"  gap_penalty:\".ljust(25) + \"Default: -1.0 | Recommended Values: -4.0, -3.0, -2.0, -1.5, -1.0, -0.5\")\n",
    "  print(\"  gap_extension_penalty:\".ljust(25) + \"Default: -0.2 | Recommended Values: -1.0, -0.8, -0.5, -0.3, -0.2, -0.1\")"
   ]
  },
  {
   "cell_type": "code",
   "execution_count": 12,
   "metadata": {
    "colab": {
     "base_uri": "https://localhost:8080/"
    },
    "id": "5Tyat_ydz5f4",
    "outputId": "d0b958ab-ed49-469e-ae38-44c0c744c10a"
   },
   "outputs": [
    {
     "name": "stdout",
     "output_type": "stream",
     "text": [
      "Parameters & Descriptions:\n",
      "  saving_add:            Output directory path\n",
      "  seqs_path:             FASTA file with two protein sequences\n",
      "  scoring_type:          Model for embedding production (ProtT5, ProtBert, ProtAlbert, ProtXLNet)\n",
      "  alignment_type:        Global-regular or Global-end-gap-free\n",
      "  gap_penalty:           Default: -1.0 | Recommended Values: -4.0, -3.0, -2.0, -1.5, -1.0, -0.5\n",
      "  gap_extension_penalty: Default: -0.2 | Recommended Values: -1.0, -0.8, -0.5, -0.3, -0.2, -0.1\n"
     ]
    }
   ],
   "source": [
    "user_guide(MODELS_LIST)"
   ]
  },
  {
   "cell_type": "markdown",
   "metadata": {
    "tags": []
   },
   "source": [
    "# Analysis"
   ]
  },
  {
   "cell_type": "markdown",
   "metadata": {},
   "source": [
    "## Data Initialization"
   ]
  },
  {
   "cell_type": "code",
   "execution_count": 13,
   "metadata": {},
   "outputs": [
    {
     "name": "stdout",
     "output_type": "stream",
     "text": [
      "Initializing ProtT5\n"
     ]
    },
    {
     "name": "stderr",
     "output_type": "stream",
     "text": [
      "You are using the default legacy behaviour of the <class 'transformers.models.t5.tokenization_t5.T5Tokenizer'>. If you see this, DO NOT PANIC! This is expected, and simply means that the `legacy` (previous) behavior will be used so nothing changes for you. If you want to use the new behaviour, set `legacy=False`. This should only be set if you understand what it means, and thouroughly read the reason why this was added as explained in https://github.com/huggingface/transformers/pull/24565\n"
     ]
    },
    {
     "name": "stdout",
     "output_type": "stream",
     "text": [
      "ProtT5\n",
      "Generating T5 Embeddings\n"
     ]
    }
   ],
   "source": [
    "saving_add = \"./analysis/\"\n",
    "seqs_path = \"../data/uniprot_AGEVLEDQ.fasta\"\n",
    "scoring = MODELS_LIST[0] # ProtT5\n",
    "alignment_type = ALIGNMENT_TYPES[0] # Global\n",
    "\n",
    "model, tokenizer = get_model(scoring)\n",
    "embeddings = get_fasta_embeddings(seqs_path, model, tokenizer, scoring)"
   ]
  },
  {
   "cell_type": "markdown",
   "metadata": {},
   "source": [
    "## Amino Acid Frequency Table Generation Code"
   ]
  },
  {
   "cell_type": "code",
   "execution_count": 14,
   "metadata": {},
   "outputs": [],
   "source": [
    "# Frequency of the 20 amino acids observed in the FASTA file dataset and statistical significance of the frequency\n",
    "list_of_files = [\n",
    "    \"../data/finetuning/msa-proteins/cd00012.fasta\", \"../data/finetuning/msa-proteins/cd00024.fasta\",\n",
    "    \"../data/finetuning/msa-proteins/cd00029.fasta\", \"../data/finetuning/msa-proteins/cd00065.fasta\",\n",
    "    \"../data/finetuning/msa-proteins/cd00104.fasta\", \"../data/finetuning/msa-proteins/cd00173.fasta\",\n",
    "    \"../data/finetuning/msa-proteins/cd00637.fasta\", \"../data/finetuning/msa-proteins/cd01040.fasta\",\n",
    "    \"../data/finetuning/msa-proteins/cd01068.fasta\", \"../data/finetuning/msa-proteins/cd19756.fasta\"\n",
    "]\n",
    "\n",
    "# Get the frequency of the amino acids in the FASTA files\n",
    "def get_amino_acid_frequency(list_of_files):\n",
    "    \"\"\" Gets the frequency of the amino acids in the FASTA files \n",
    "\n",
    "    Args\n",
    "        list_of_files - list of FASTA files to get the frequency of the amino acids from\n",
    "    \n",
    "    Returns\n",
    "        amino_acid_frequency - dictionary of the frequency of the amino acids in the FASTA files\n",
    "    \"\"\"\n",
    "    amino_acid_frequency = {}\n",
    "    for file in list_of_files:\n",
    "        with open(file, \"r\") as f:\n",
    "            for line in f:\n",
    "                if line[0] != \">\":\n",
    "                    for char in line:\n",
    "                        if char != \"\\n\" and char != \"X\" and char != \"B\":\n",
    "                            if char in amino_acid_frequency:\n",
    "                                amino_acid_frequency[char] += 1\n",
    "                            else:\n",
    "                                amino_acid_frequency[char] = 1\n",
    "\n",
    "    return amino_acid_frequency\n",
    "\n",
    "amino_acid_frequency = get_amino_acid_frequency(list_of_files)\n",
    "\n",
    "# Get the percent frequency of each amino acid\n",
    "def get_percent_frequency(amino_acid_frequency):\n",
    "    \"\"\" Gets the percent frequency of each amino acid \n",
    "\n",
    "    Args\n",
    "        amino_acid_frequency - dictionary of the frequency of the amino acids in the FASTA files\n",
    "    \n",
    "    Returns\n",
    "        percent_frequency - dictionary of the percent frequency of the amino acids in the FASTA files\n",
    "    \"\"\"\n",
    "    percent_frequency = {}\n",
    "    total = sum(amino_acid_frequency.values())\n",
    "    for key in amino_acid_frequency:\n",
    "        percent_frequency[key] = amino_acid_frequency[key] / total\n",
    "    return percent_frequency\n",
    "\n",
    "percent_frequency = get_percent_frequency(amino_acid_frequency)\n",
    "\n",
    "# Create a table of the frequency and percent frequency of the amino acids; sort by percent frequency; add in P-value\n",
    "def create_table(amino_acid_frequency, percent_frequency):\n",
    "    \"\"\" Creates a table of the frequency and percent frequency of the amino acids; sort by percent frequency; add in P-value \n",
    "\n",
    "    Args\n",
    "        amino_acid_frequency - dictionary of the frequency of the amino acids in the FASTA files\n",
    "        percent_frequency - dictionary of the percent frequency of the amino acids in the FASTA files\n",
    "    \n",
    "    Returns\n",
    "        table - dataframe of the frequency and percent frequency of the amino acids; sort by percent frequency; add in P-value\n",
    "    \"\"\"\n",
    "    \n",
    "    # Get the expected frequency of each amino acid (sum of all frequencies / 20)\n",
    "    expected_frequency = sum(amino_acid_frequency.values()) / 20\n",
    "\n",
    "    # Get the P-value of each amino acid\n",
    "    p_values = {}\n",
    "    for key in amino_acid_frequency:\n",
    "        # Get observed frequency of amino acid\n",
    "        observed_frequency = amino_acid_frequency[key]\n",
    "\n",
    "        # Perform chi-square test to get the p-value by comparing observed and expected frequency\n",
    "        p_values[key] = sp.stats.chisquare([observed_frequency, expected_frequency])[1]\n",
    "\n",
    "\n",
    "    # Create a dataframe of the frequency and percent frequency of the amino acids; sort by percent frequency; add in P-value\n",
    "    table = pd.DataFrame.from_dict(amino_acid_frequency, orient='index', columns=['Frequency'])\n",
    "    table['Percent'] = table.index.map(percent_frequency) * 100\n",
    "    table['Percent'] = table['Percent'].round(3)\n",
    "    table['Diff From Equal'] = abs((table.index.map(percent_frequency) * 100) - 5)\n",
    "    table['Diff From Equal'] = table['Diff From Equal'].round(3)\n",
    "    table['P-value'] = table.index.map(p_values)\n",
    "    # Round P-value to e notation with 3 decimal places\n",
    "    table['P-value'] = table['P-value'].apply(lambda x: '%.1e' % x)\n",
    "    table.sort_values(by='Percent', ascending=False, inplace=True)\n",
    "    return table\n",
    "\n",
    "# table = create_table(amino_acid_frequency, percent_frequency)\n",
    "\n",
    "# latex_table = table.to_latex(escape=False, float_format=\"%.3f\")\n",
    "# print(latex_table)"
   ]
  },
  {
   "cell_type": "markdown",
   "metadata": {},
   "source": [
    "## Average Embedding Values For Sample and Random Embeddings"
   ]
  },
  {
   "cell_type": "code",
   "execution_count": 15,
   "metadata": {
    "tags": []
   },
   "outputs": [
    {
     "name": "stdout",
     "output_type": "stream",
     "text": [
      "Initializing ProtT5\n",
      "ProtT5\n",
      "Generating T5 Embeddings\n",
      "Initializing ProtBert\n",
      "ProtBert\n",
      "Initializing ProtAlbert\n",
      "ProtAlbert\n",
      "Initializing ProtXLNet\n",
      "ProtXLNet\n"
     ]
    }
   ],
   "source": [
    "# Get the average and standard deviation for each embedding generated by each model type and visualize the differences\n",
    "avg_map = {model: 0 for model in MODELS_LIST}\n",
    "std_map = {model: 0 for model in MODELS_LIST}\n",
    "\n",
    "for model_name in MODELS_LIST:\n",
    "    model, tokenizer = get_model(model_name)\n",
    "    embeddings = get_fasta_embeddings(seqs_path, model, tokenizer, model_name)\n",
    "    for i in range(len(embeddings)):\n",
    "        avg_map[model_name] += np.mean(embeddings[i], axis=0)\n",
    "        std_map[model_name] += np.std(embeddings[i], axis=0)\n",
    "    avg_map[model_name] /= len(embeddings)\n",
    "    std_map[model_name] /= len(embeddings)\n",
    "\n",
    "# Convert the length of the arrays in avg_map and std_map to 1000; scaling every array down to 1000 based on the length of the array\n",
    "for model_name in MODELS_LIST:\n",
    "    avg_map[model_name] = np.interp(np.linspace(0, 1, 1000), np.linspace(0, 1, len(avg_map[model_name])), avg_map[model_name])\n",
    "    std_map[model_name] = np.interp(np.linspace(0, 1, 1000), np.linspace(0, 1, len(std_map[model_name])), std_map[model_name])\n",
    "\n",
    "# Scale avg_map values between -1..1 and scale std_map between 0..1\n",
    "for model_name in MODELS_LIST:\n",
    "    avg_map[model_name] = 2 * (avg_map[model_name] - np.min(avg_map[model_name])) / (np.max(avg_map[model_name]) - np.min(avg_map[model_name])) - 1\n",
    "    std_map[model_name] = (std_map[model_name] - np.min(std_map[model_name])) / (np.max(std_map[model_name]) - np.min(std_map[model_name]))"
   ]
  },
  {
   "cell_type": "code",
   "execution_count": 16,
   "metadata": {},
   "outputs": [],
   "source": [
    "# Get the average of every value for total average and standard deviation for each model\n",
    "total_average = {\n",
    "    \"ProtT5\": 0,\n",
    "    \"ProtBert\": 0,\n",
    "    \"ProtAlbert\": 0,\n",
    "    \"ProtXLNet\": 0,\n",
    "}\n",
    "\n",
    "total_std = {\n",
    "    \"ProtT5\": 0,\n",
    "    \"ProtBert\": 0,\n",
    "    \"ProtAlbert\": 0,\n",
    "    \"ProtXLNet\": 0,\n",
    "}\n",
    "\n",
    "for model_name in MODELS_LIST:\n",
    "    total_average[model_name] = np.mean(avg_map[model_name])\n",
    "    total_std[model_name] = np.mean(std_map[model_name])"
   ]
  },
  {
   "cell_type": "code",
   "execution_count": 17,
   "metadata": {},
   "outputs": [],
   "source": [
    "def create_random_fasta_file():\n",
    "    \"\"\" Creates a FASTA file with 8 sequences of randomly generated amino acids of length 100-150 \n",
    "\n",
    "    Returns\n",
    "        None\n",
    "    \"\"\"\n",
    "    with open(\"random_amino_acids.fasta\", \"w\") as f:\n",
    "        for i in range(80):\n",
    "            sequence = ''.join(random.choices(list(amino_acid_frequency.keys()), k=random.randint(100, 150)))\n",
    "            f.write(f\">sequence_{i}\\n{sequence}\\n\")\n",
    "\n",
    "create_random_fasta_file()"
   ]
  },
  {
   "cell_type": "code",
   "execution_count": 18,
   "metadata": {},
   "outputs": [
    {
     "name": "stdout",
     "output_type": "stream",
     "text": [
      "Initializing ProtT5\n",
      "ProtT5\n",
      "Generating T5 Embeddings\n",
      "Initializing ProtBert\n",
      "ProtBert\n",
      "Initializing ProtAlbert\n",
      "ProtAlbert\n",
      "Initializing ProtXLNet\n",
      "ProtXLNet\n"
     ]
    }
   ],
   "source": [
    "# Get the average and standard deviation for each embedding generated by each model type and visualize the differences\n",
    "avg_map_random = {model + \"_Random\": 0 for model in MODELS_LIST}\n",
    "std_map_random = {model + \"_Random\": 0 for model in MODELS_LIST}\n",
    "\n",
    "for model_name in MODELS_LIST:\n",
    "    model, tokenizer = get_model(model_name)\n",
    "    embeddings = get_fasta_embeddings(\"random_amino_acids.fasta\", model, tokenizer, model_name)\n",
    "    for i in range(len(embeddings)):\n",
    "        avg_map_random[model_name + \"_Random\"] += np.mean(embeddings[i], axis=0)\n",
    "        std_map_random[model_name + \"_Random\"] += np.std(embeddings[i], axis=0)\n",
    "    avg_map_random[model_name + \"_Random\"] /= len(embeddings)\n",
    "    std_map_random[model_name + \"_Random\"] /= len(embeddings)\n",
    "\n",
    "# Convert the length of the arrays in avg_map_random and std_map_random to 1000; scaling every array down to 1000 based on the length of the array\n",
    "for model_name in MODELS_LIST:\n",
    "    avg_map_random[model_name + \"_Random\"] = np.interp(np.linspace(0, 1, 1000), np.linspace(0, 1, len(avg_map_random[model_name + \"_Random\"])), avg_map_random[model_name + \"_Random\"])\n",
    "    std_map_random[model_name + \"_Random\"] = np.interp(np.linspace(0, 1, 1000), np.linspace(0, 1, len(std_map_random[model_name + \"_Random\"])), std_map_random[model_name + \"_Random\"])\n",
    "\n",
    "# Scale avg_map_random values between -1..1 and scale std_map_random between 0..1\n",
    "for model_name in MODELS_LIST:\n",
    "    avg_map_random[model_name + \"_Random\"] = 2 * (avg_map_random[model_name + \"_Random\"] - np.min(avg_map_random[model_name + \"_Random\"])) / (np.max(avg_map_random[model_name + \"_Random\"]) - np.min(avg_map_random[model_name + \"_Random\"])) - 1\n",
    "    std_map_random[model_name + \"_Random\"] = (std_map_random[model_name + \"_Random\"] - np.min(std_map_random[model_name + \"_Random\"])) / (np.max(std_map_random[model_name + \"_Random\"]) - np.min(std_map_random[model_name + \"_Random\"]))"
   ]
  },
  {
   "cell_type": "code",
   "execution_count": 19,
   "metadata": {},
   "outputs": [],
   "source": [
    "total_average_random = {\n",
    "    \"ProtT5_Random\": 0,\n",
    "    \"ProtBert_Random\": 0,\n",
    "    \"ProtAlbert_Random\": 0,\n",
    "    \"ProtXLNet_Random\": 0\n",
    "}\n",
    "\n",
    "total_std_random = {\n",
    "    \"ProtT5_Random\": 0,\n",
    "    \"ProtBert_Random\": 0,\n",
    "    \"ProtAlbert_Random\": 0,\n",
    "    \"ProtXLNet_Random\": 0\n",
    "}\n",
    "\n",
    "for model_name in MODELS_LIST:\n",
    "    total_average_random[model_name + \"_Random\"] = np.mean(avg_map_random[model_name + \"_Random\"])\n",
    "    total_std_random[model_name + \"_Random\"] = np.mean(std_map_random[model_name + \"_Random\"])\n",
    "\n",
    "joined_avg = {**total_average, **total_average_random}\n",
    "joined_std = {**total_std, **total_std_random}"
   ]
  },
  {
   "cell_type": "code",
   "execution_count": 22,
   "metadata": {},
   "outputs": [
    {
     "data": {
      "image/png": "[encoded data removed]",
      "text/plain": [
       "<Figure size 2000x1000 with 1 Axes>"
      ]
     },
     "metadata": {},
     "output_type": "display_data"
    }
   ],
   "source": [
    "# Visualize the average and standard deviation for all the models together in one plot (total_average_random and total_std_random)\n",
    "\n",
    "# Shuffle around keys: ProtT5, ProtT5_Random, ProtBert, ProtBert_Random, ProtAlbert, ProtAlbert_Random, ProtXLNet, ProtXLNet_Random\n",
    "joined_avg_shuffled = {}\n",
    "joined_std_shuffled = {}\n",
    "\n",
    "for i in range(4):\n",
    "    for model_name in MODELS_LIST:\n",
    "        joined_avg_shuffled[model_name + \"_Random\"] = joined_avg[model_name + \"_Random\"]\n",
    "        joined_std_shuffled[model_name + \"_Random\"] = joined_std[model_name + \"_Random\"]\n",
    "\n",
    "        joined_avg_shuffled[model_name] = joined_avg[model_name]\n",
    "        joined_std_shuffled[model_name] = joined_std[model_name]\n",
    "\n",
    "\n",
    "plt.figure(figsize=(20, 10))\n",
    "plt.errorbar(joined_avg_shuffled.keys(), joined_avg_shuffled.values(), yerr=list(joined_std_shuffled.values()), fmt='o', capsize=7)\n",
    "plt.xlabel('Model')\n",
    "plt.ylabel('Average')\n",
    "plt.title('Average of Embedding Vectors for Each Model (n = 80)')\n",
    "plt.show()"
   ]
  },
  {
   "cell_type": "code",
   "execution_count": 23,
   "metadata": {},
   "outputs": [
    {
     "name": "stdout",
     "output_type": "stream",
     "text": [
      "\\begin{tabular}{lrrrr}\n",
      "\\toprule\n",
      " & Average & Standard Deviation & Random Average & Random Standard Deviation \\\\\n",
      "\\midrule\n",
      "ProtT5 & -0.261 & 0.765 & -0.277 & 0.685 \\\\\n",
      "ProtBert & -0.754 & 0.055 & -0.540 & 0.144 \\\\\n",
      "ProtAlbert & -0.906 & 0.135 & -0.877 & 0.184 \\\\\n",
      "ProtXLNet & 0.286 & 0.067 & 0.211 & 0.066 \\\\\n",
      "\\bottomrule\n",
      "\\end{tabular}\n",
      "\n"
     ]
    }
   ],
   "source": [
    "# Table of the average, standard deviation, and total average and standard deviation for each model\n",
    "avg_table = pd.DataFrame.from_dict(total_average, orient='index', columns=['Average'])\n",
    "avg_table['Standard Deviation'] = total_std.values()\n",
    "avg_table['Random Average'] = total_average_random.values()\n",
    "avg_table['Random Standard Deviation'] = total_std_random.values()\n",
    "avg_table.head()\n",
    "\n",
    "# Print as LaTeX table\n",
    "avg_table_latex = avg_table.to_latex(escape=False, float_format=\"%.3f\")\n",
    "print(avg_table_latex)"
   ]
  },
  {
   "cell_type": "markdown",
   "metadata": {},
   "source": [
    "## Cosine Similarity"
   ]
  },
  {
   "cell_type": "markdown",
   "metadata": {},
   "source": [
    "#### ProtT5"
   ]
  },
  {
   "cell_type": "code",
   "execution_count": 24,
   "metadata": {},
   "outputs": [
    {
     "name": "stdout",
     "output_type": "stream",
     "text": [
      "Initializing ProtT5\n",
      "ProtT5\n",
      "Generating T5 Embeddings\n"
     ]
    }
   ],
   "source": [
    "# Retrieve average and standard deviation results for cosine similarity ProtT5\n",
    "saving_add = \"./analysis/\"\n",
    "seqs_path = \"random_amino_acids_short.fasta\"\n",
    "scoring = MODELS_LIST[0] # ProtT5\n",
    "alignment_type = ALIGNMENT_TYPES[0] # Global\n",
    "model, tokenizer = get_model(scoring)\n",
    "embeddings_prott5 = get_fasta_embeddings(seqs_path, model, tokenizer, scoring)\n",
    "\n",
    "num_embeddings = len(embeddings_prott5)\n",
    "avgt5 = np.zeros([num_embeddings, num_embeddings])\n",
    "stdt5 = np.zeros([num_embeddings, num_embeddings])\n",
    "\n",
    "# Compare every pair of embeddings and get cosine similarity\n",
    "for i in range(num_embeddings):\n",
    "    for j in range(num_embeddings):\n",
    "        cosine_similarities = get_cosine_similarities(embeddings_prott5[i], embeddings_prott5[j], input=\"embeddings\", model=model, tokenizer=tokenizer, scoring=scoring)\n",
    "        avgt5[i, j] += np.mean(cosine_similarities)\n",
    "        stdt5[i, j] += np.std(cosine_similarities)\n",
    "\n",
    "avgt5a = np.mean(avgt5)\n",
    "stdt5a = np.mean(stdt5)\n",
    "\n",
    "del avgt5\n",
    "del stdt5"
   ]
  },
  {
   "cell_type": "code",
   "execution_count": 25,
   "metadata": {},
   "outputs": [
    {
     "name": "stdout",
     "output_type": "stream",
     "text": [
      "ProtT5\n",
      "Generating T5 Embeddings\n"
     ]
    }
   ],
   "source": [
    "# Retrieve average and standard deviation results for cosine similarity ProtT5 (non-random)\n",
    "seqs_path = \"nonrandom_amino_acids_short.fasta\"\n",
    "embeddings_prott5_nonrandom = get_fasta_embeddings(seqs_path, model, tokenizer, scoring)\n",
    "\n",
    "num_embeddings = len(embeddings_prott5_nonrandom)\n",
    "avgt5nr = np.zeros([num_embeddings, num_embeddings])\n",
    "stdt5nr = np.zeros([num_embeddings, num_embeddings])\n",
    "\n",
    "# Compare every pair of embeddings and get cosine similarity\n",
    "for i in range(num_embeddings):\n",
    "    for j in range(num_embeddings):\n",
    "        cosine_similarities = get_cosine_similarities(embeddings_prott5_nonrandom[i], embeddings_prott5_nonrandom[j], input=\"embeddings\", model=model, tokenizer=tokenizer, scoring=scoring)\n",
    "        avgt5nr[i, j] += np.mean(cosine_similarities)\n",
    "        stdt5nr[i, j] += np.std(cosine_similarities)\n",
    "\n",
    "avgt5nra = np.mean(avgt5nr)\n",
    "stdt5nra = np.mean(stdt5nr)\n",
    "\n",
    "del avgt5nr\n",
    "del stdt5nr"
   ]
  },
  {
   "cell_type": "markdown",
   "metadata": {},
   "source": [
    "#### ProtBERT"
   ]
  },
  {
   "cell_type": "code",
   "execution_count": 26,
   "metadata": {},
   "outputs": [
    {
     "name": "stdout",
     "output_type": "stream",
     "text": [
      "Initializing ProtBert\n",
      "ProtBert\n"
     ]
    }
   ],
   "source": [
    "# Repeat for ProtBERT\n",
    "seqs_path = \"random_amino_acids_short.fasta\"\n",
    "scoring = MODELS_LIST[1] # ProtBert\n",
    "model, tokenizer = get_model(scoring)\n",
    "embeddings_protbert = get_fasta_embeddings(seqs_path, model, tokenizer, scoring)\n",
    "\n",
    "num_embeddings = len(embeddings_protbert)\n",
    "avgbert = np.zeros([num_embeddings, num_embeddings])\n",
    "stdbert = np.zeros([num_embeddings, num_embeddings])\n",
    "\n",
    "# Compare every pair of embeddings and get cosine similarity\n",
    "for i in range(num_embeddings):\n",
    "    for j in range(num_embeddings):\n",
    "        cosine_similarities = get_cosine_similarities(embeddings_protbert[i], embeddings_protbert[j], input=\"embeddings\", model=model, tokenizer=tokenizer, scoring=scoring)\n",
    "        avgbert[i, j] += np.mean(cosine_similarities)\n",
    "        stdbert[i, j] += np.std(cosine_similarities)\n",
    "\n",
    "avgberta = np.mean(avgbert)\n",
    "stdberta = np.mean(stdbert)\n",
    "\n",
    "del avgbert\n",
    "del stdbert"
   ]
  },
  {
   "cell_type": "code",
   "execution_count": 27,
   "metadata": {},
   "outputs": [
    {
     "name": "stdout",
     "output_type": "stream",
     "text": [
      "ProtBert\n"
     ]
    }
   ],
   "source": [
    "# Retrieve average and standard deviation results for cosine similarity ProtBERT (non-random)\n",
    "seqs_path = \"nonrandom_amino_acids_short.fasta\"\n",
    "embeddings_protbert_nr = get_fasta_embeddings(seqs_path, model, tokenizer, scoring)\n",
    "\n",
    "num_embeddings = len(embeddings_protbert_nr)\n",
    "avgbertnr = np.zeros([num_embeddings, num_embeddings])\n",
    "stdbertnr = np.zeros([num_embeddings, num_embeddings])\n",
    "\n",
    "# Compare every pair of embeddings and get cosine similarity\n",
    "for i in range(num_embeddings):\n",
    "    for j in range(num_embeddings):\n",
    "        cosine_similarities = get_cosine_similarities(embeddings_protbert_nr[i], embeddings_protbert_nr[j], input=\"embeddings\", model=model, tokenizer=tokenizer, scoring=scoring)\n",
    "        avgbertnr[i, j] += np.mean(cosine_similarities)\n",
    "        stdbertnr[i, j] += np.std(cosine_similarities)\n",
    "\n",
    "avgbertnra = np.mean(avgbertnr)\n",
    "stdbertnra = np.mean(stdbertnr)\n",
    "\n",
    "del avgbertnr\n",
    "del stdbertnr"
   ]
  },
  {
   "cell_type": "markdown",
   "metadata": {},
   "source": [
    "#### ProtALBERT"
   ]
  },
  {
   "cell_type": "code",
   "execution_count": 28,
   "metadata": {},
   "outputs": [
    {
     "name": "stdout",
     "output_type": "stream",
     "text": [
      "Initializing ProtAlbert\n",
      "ProtAlbert\n"
     ]
    }
   ],
   "source": [
    "# Repeat for ProtALBERT\n",
    "seqs_path = \"random_amino_acids_short.fasta\"\n",
    "scoring = MODELS_LIST[2] # ProtALBert\n",
    "model, tokenizer = get_model(scoring)\n",
    "embeddings_protalbert = get_fasta_embeddings(seqs_path, model, tokenizer, scoring)\n",
    "\n",
    "num_embeddings = len(embeddings_protalbert)\n",
    "avgal = np.zeros([num_embeddings, num_embeddings])\n",
    "stdal = np.zeros([num_embeddings, num_embeddings])\n",
    "\n",
    "# Compare every pair of embeddings and get cosine similarity\n",
    "for i in range(num_embeddings):\n",
    "    for j in range(num_embeddings):\n",
    "        cosine_similarities = get_cosine_similarities(embeddings_protalbert[i], embeddings_protalbert[j], input=\"embeddings\", model=model, tokenizer=tokenizer, scoring=scoring)\n",
    "        avgal[i, j] += np.mean(cosine_similarities)\n",
    "        stdal[i, j] += np.std(cosine_similarities)\n",
    "\n",
    "avgala = np.mean(avgal)\n",
    "stdala = np.mean(stdal)\n",
    "\n",
    "del avgal\n",
    "del stdal"
   ]
  },
  {
   "cell_type": "code",
   "execution_count": 29,
   "metadata": {},
   "outputs": [
    {
     "name": "stdout",
     "output_type": "stream",
     "text": [
      "ProtAlbert\n"
     ]
    }
   ],
   "source": [
    "# Retrieve average and standard deviation results for cosine similarity ProtALBERT (non-random)\n",
    "seqs_path = \"nonrandom_amino_acids_short.fasta\"\n",
    "embeddings_alb_nr = get_fasta_embeddings(seqs_path, model, tokenizer, scoring)\n",
    "\n",
    "num_embeddings = len(embeddings_alb_nr)\n",
    "avgalnr = np.zeros([num_embeddings, num_embeddings])\n",
    "stdalnr = np.zeros([num_embeddings, num_embeddings])\n",
    "\n",
    "# Compare every pair of embeddings and get cosine similarity\n",
    "for i in range(num_embeddings):\n",
    "    for j in range(num_embeddings):\n",
    "        cosine_similarities = get_cosine_similarities(embeddings_alb_nr[i], embeddings_alb_nr[j], input=\"embeddings\", model=model, tokenizer=tokenizer, scoring=scoring)\n",
    "        avgalnr[i, j] += np.mean(cosine_similarities)\n",
    "        stdalnr[i, j] += np.std(cosine_similarities)\n",
    "\n",
    "avgalnra = np.mean(avgalnr)\n",
    "stdalnra = np.mean(stdalnr)\n",
    "\n",
    "del avgalnr\n",
    "del stdalnr"
   ]
  },
  {
   "cell_type": "markdown",
   "metadata": {},
   "source": [
    "#### ProtXLNet"
   ]
  },
  {
   "cell_type": "code",
   "execution_count": 30,
   "metadata": {},
   "outputs": [
    {
     "name": "stdout",
     "output_type": "stream",
     "text": [
      "Initializing ProtXLNet\n",
      "ProtXLNet\n"
     ]
    }
   ],
   "source": [
    "# Repeat for ProtXLNet\n",
    "seqs_path = \"random_amino_acids_short.fasta\"\n",
    "scoring = MODELS_LIST[3] # ProtXLNet\n",
    "model, tokenizer = get_model(scoring)\n",
    "embeddings_protxlnet = get_fasta_embeddings(seqs_path, model, tokenizer, scoring)\n",
    "\n",
    "num_embeddings = len(embeddings_protxlnet)\n",
    "avgxl = np.zeros([num_embeddings, num_embeddings])\n",
    "stdxl = np.zeros([num_embeddings, num_embeddings])\n",
    "\n",
    "# Compare every pair of embeddings and get cosine similarity\n",
    "for i in range(num_embeddings):\n",
    "    for j in range(num_embeddings):\n",
    "        cosine_similarities = get_cosine_similarities(embeddings_protxlnet[i], embeddings_protxlnet[j], input=\"embeddings\", model=model, tokenizer=tokenizer, scoring=scoring)\n",
    "        avgxl[i, j] += np.mean(cosine_similarities)\n",
    "        stdxl[i, j] += np.std(cosine_similarities)\n",
    "\n",
    "avgxla = np.mean(avgxl)\n",
    "stdxla = np.mean(stdxl)\n",
    "\n",
    "del avgxl\n",
    "del stdxl"
   ]
  },
  {
   "cell_type": "code",
   "execution_count": 31,
   "metadata": {},
   "outputs": [
    {
     "name": "stdout",
     "output_type": "stream",
     "text": [
      "ProtXLNet\n"
     ]
    }
   ],
   "source": [
    "# Retrieve average and standard deviation results for cosine similarity ProtXLNet (non-random)\n",
    "seqs_path = \"nonrandom_amino_acids_short.fasta\"\n",
    "embeddings_xl_nr = get_fasta_embeddings(seqs_path, model, tokenizer, scoring)\n",
    "\n",
    "num_embeddings = len(embeddings_xl_nr)\n",
    "avgxlnr = np.zeros([num_embeddings, num_embeddings])\n",
    "stdxlnr = np.zeros([num_embeddings, num_embeddings])\n",
    "\n",
    "# Compare every pair of embeddings and get cosine similarity\n",
    "for i in range(num_embeddings):\n",
    "    for j in range(num_embeddings):\n",
    "        cosine_similarities = get_cosine_similarities(embeddings_xl_nr[i], embeddings_xl_nr[j], input=\"embeddings\", model=model, tokenizer=tokenizer, scoring=scoring)\n",
    "        avgxlnr[i, j] += np.mean(cosine_similarities)\n",
    "        stdxlnr[i, j] += np.std(cosine_similarities)\n",
    "\n",
    "avgxlnra = np.mean(avgxlnr)\n",
    "stdxlnra = np.mean(stdxlnr)\n",
    "\n",
    "del avgxlnr\n",
    "del stdxlnr"
   ]
  },
  {
   "cell_type": "code",
   "execution_count": 32,
   "metadata": {},
   "outputs": [
    {
     "data": {
      "image/png": "[encoded data removed]",
      "text/plain": [
       "<Figure size 2000x1000 with 1 Axes>"
      ]
     },
     "metadata": {},
     "output_type": "display_data"
    }
   ],
   "source": [
    "# Visualize the average and standard deviation for all the models together in one plot\n",
    "plt.figure(figsize=(20, 10))\n",
    "plt.errorbar([\"ProtT5\", \"ProtT5_Random\", \"ProtBERT\", \"ProtBERT_Random\", \"ProtALBERT\", \"ProtALBET_Random\", \"ProtXLNet\", \"ProtXLNet_Random\"], [avgt5a, avgt5nra, avgberta, avgbertnra, avgala, avgalnra, avgxla, avgxlnra], yerr=[stdt5a, stdt5nra, stdberta, stdbertnra, stdala, stdalnra, stdxla, stdxlnra], fmt='o', capsize=5)\n",
    "plt.xlabel('Model')\n",
    "plt.ylabel('Average')\n",
    "plt.title('Average Cosine Similarity Between 40 UniProt Embeddings +- Standard Deviation')\n",
    "plt.show()"
   ]
  },
  {
   "cell_type": "code",
   "execution_count": 33,
   "metadata": {},
   "outputs": [
    {
     "name": "stdout",
     "output_type": "stream",
     "text": [
      "\\begin{tabular}{llrr}\n",
      "\\toprule\n",
      " & Model & Average & Standard Deviation \\\\\n",
      "\\midrule\n",
      "0 & ProtT5 & 0.053 & 0.089 \\\\\n",
      "1 & ProtT5_Random & 0.025 & 0.067 \\\\\n",
      "2 & ProtBERT & 0.919 & 0.020 \\\\\n",
      "3 & ProtBERT_Random & 0.637 & 0.108 \\\\\n",
      "4 & ProtALBERT & 0.424 & 0.111 \\\\\n",
      "5 & ProtALBERT_Random & 0.252 & 0.082 \\\\\n",
      "6 & ProtXLNet & 0.966 & 0.015 \\\\\n",
      "7 & ProtXLNet_Random & 0.712 & 0.142 \\\\\n",
      "\\bottomrule\n",
      "\\end{tabular}\n",
      "\n"
     ]
    }
   ],
   "source": [
    "# LaTeX Table of the average and standard deviation for all the models\n",
    "avg_table = pd.DataFrame({\n",
    "    \"Model\": [\"ProtT5\", \"ProtT5_Random\", \"ProtBERT\", \"ProtBERT_Random\", \"ProtALBERT\", \"ProtALBERT_Random\", \"ProtXLNet\", \"ProtXLNet_Random\"],\n",
    "    \"Average\": [avgt5a, avgt5nra, avgberta, avgbertnra, avgala, avgalnra, avgxla, avgxlnra],\n",
    "    \"Standard Deviation\": [stdt5a, stdt5nra, stdberta, stdbertnra, stdala, stdalnra, stdxla, stdxlnra]\n",
    "})\n",
    "avg_table_latex = avg_table.to_latex(escape=False, float_format=\"%.3f\")\n",
    "print(avg_table_latex)"
   ]
  },
  {
   "cell_type": "markdown",
   "metadata": {},
   "source": [
    "## Correlations"
   ]
  },
  {
   "cell_type": "code",
   "execution_count": null,
   "metadata": {},
   "outputs": [],
   "source": [
    "# Determining significance of the differences between the average cosine similarity of the random and non-random sequences\n",
    "# Perform a t-test to determine the significance of the differences between the average cosine similarity of the random and non-random sequences\n",
    "ttest_t5 = sp.stats.ttest_ind(avgt5.flatten(), avgt5nr.flatten())\n",
    "ttest_bert = sp.stats.ttest_ind(avgbert.flatten(), avgbertnr.flatten())\n",
    "ttest_albert = sp.stats.ttest_ind(avgal.flatten(), avgalnr.flatten())\n",
    "ttest_xlnet = sp.stats.ttest_ind(avgxl.flatten(), avgxlnr.flatten())\n",
    "\n",
    "# Print the results of the t-test\n",
    "print(\"ProtT5:\", ttest_t5)\n",
    "print(\"ProtBERT:\", ttest_bert)\n",
    "print(\"ProtALBERT:\", ttest_albert)\n",
    "print(\"ProtXLNet:\", ttest_xlnet)"
   ]
  },
  {
   "cell_type": "code",
   "execution_count": null,
   "metadata": {},
   "outputs": [],
   "source": [
    "# Determining significance of the differences between the standard deviation of the random and non-random sequences\n",
    "# Perform a t-test to determine the significance of the differences between the standard deviation of the random and non-random sequences\n",
    "ttest_t5_std = sp.stats.ttest_ind(stdt5.flatten(), stdt5nr.flatten())\n",
    "ttest_bert_std = sp.stats.ttest_ind(stdbert.flatten(), stdbertnr.flatten())\n",
    "ttest_albert_std = sp.stats.ttest_ind(stdal.flatten(), stdalnr.flatten())\n",
    "ttest_xlnet_std = sp.stats.ttest_ind(stdxl.flatten(), stdxlnr.flatten())\n",
    "\n",
    "# Print the results of the t-test\n",
    "print(\"ProtT5:\", ttest_t5_std)\n",
    "print(\"ProtBERT:\", ttest_bert_std)\n",
    "print(\"ProtALBERT:\", ttest_albert_std)\n",
    "print(\"ProtXLNet:\", ttest_xlnet_std)"
   ]
  }
 ],
 "metadata": {
  "accelerator": "GPU",
  "colab": {
   "collapsed_sections": [
    "Dq9u86RyHKk_",
    "8LCdgRFBFWW6",
    "8ctdjBhTGi9z",
    "wiNZQ2SQJM54",
    "9IMkkTPWsaF0"
   ],
   "provenance": []
  },
  "gpuClass": "standard",
  "kernelspec": {
   "display_name": "venv",
   "language": "python",
   "name": "python3"
  },
  "language_info": {
   "codemirror_mode": {
    "name": "ipython",
    "version": 3
   },
   "file_extension": ".py",
   "mimetype": "text/x-python",
   "name": "python",
   "nbconvert_exporter": "python",
   "pygments_lexer": "ipython3",
   "version": "3.11.5"
  }
 },
 "nbformat": 4,
 "nbformat_minor": 4
}
